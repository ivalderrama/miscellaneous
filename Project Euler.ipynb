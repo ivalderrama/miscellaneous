{
 "cells": [
  {
   "cell_type": "code",
   "execution_count": 1,
   "metadata": {},
   "outputs": [],
   "source": [
    "# 1) Multiples of 3 and 5\n",
    "\n",
    "print(sum([i for i in range(1, 1000) if i%3==0 or i%5==0]))"
   ]
  },
  {
   "cell_type": "code",
   "execution_count": 2,
   "metadata": {},
   "outputs": [],
   "source": [
    "# 2) Even Fibonacci numbers\n",
    "\n",
    "my_fibbo = [1,2]\n",
    "\n",
    "while my_fibbo[-1] < 4000000:\n",
    "    my_fibbo.append(my_fibbo[-2] + my_fibbo[-1])\n",
    "    \n",
    "print(my_fibbo)\n",
    "print(\"\\n\")\n",
    "print([i for i in my_fibbo if i%2==0])\n",
    "print(sum([i for i in my_fibbo if i%2==0]))"
   ]
  },
  {
   "cell_type": "code",
   "execution_count": 3,
   "metadata": {},
   "outputs": [],
   "source": [
    "# 3) Largest prime factor\n",
    "\n",
    "num = 13195\n",
    "\n",
    "my_num = []\n",
    "\n",
    "for i in range(2,num):\n",
    "    if num%i == 0:\n",
    "        my_num.append(i)\n",
    "\n",
    "print(my_num)\n",
    "\n",
    "for i in my_num:\n",
    "    if my_num[-1]%i == 0:\n",
    "        my_num.pop()\n",
    "\n",
    "print(my_num)\n",
    "\n",
    "print(max(my_num))\n",
    "\n",
    "# Does not seem right..."
   ]
  },
  {
   "cell_type": "code",
   "execution_count": 4,
   "metadata": {},
   "outputs": [
    {
     "name": "stdout",
     "output_type": "stream",
     "text": [
      "906609\n"
     ]
    }
   ],
   "source": [
    "# 4) Largest palindrome product\n",
    "\n",
    "product_list = []\n",
    "\n",
    "for i in range(101, 1000):\n",
    "    for j in range(999, 99, -1):\n",
    "        product_list.append(str(i*j))\n",
    "\n",
    "palindrome = []\n",
    "\n",
    "for i in product_list:\n",
    "    for j in i.split():\n",
    "        if j[2] == j[-3] and j[1] == j[-2] and j[0] == j[-1]:\n",
    "            palindrome.append(int(i))\n",
    "\n",
    "print(max(palindrome))"
   ]
  },
  {
   "cell_type": "code",
   "execution_count": 5,
   "metadata": {},
   "outputs": [],
   "source": [
    "# 5) Smallest multiple \n",
    "\n",
    "# I'm not sure I understand the question...\n",
    "\n",
    "num = 2520 \n",
    "\n"
   ]
  },
  {
   "cell_type": "code",
   "execution_count": 6,
   "metadata": {},
   "outputs": [
    {
     "name": "stdout",
     "output_type": "stream",
     "text": [
      "338350\n",
      "25502500\n"
     ]
    },
    {
     "data": {
      "text/plain": [
       "25164150"
      ]
     },
     "execution_count": 6,
     "metadata": {},
     "output_type": "execute_result"
    }
   ],
   "source": [
    "# 6) Sum square difference\n",
    "\n",
    "end_num = 101\n",
    "\n",
    "print(sum([i**2 for i in range(1, end_num)]))\n",
    "\n",
    "print((sum([i for i in range(1,end_num)]))**2)\n",
    "\n",
    "sum([i for i in range(1,end_num)])**2 - sum([i**2 for i in range(1,end_num)])"
   ]
  },
  {
   "cell_type": "code",
   "execution_count": null,
   "metadata": {},
   "outputs": [],
   "source": []
  },
  {
   "cell_type": "code",
   "execution_count": null,
   "metadata": {},
   "outputs": [],
   "source": []
  }
 ],
 "metadata": {
  "kernelspec": {
   "display_name": "Python 3",
   "language": "python",
   "name": "python3"
  },
  "language_info": {
   "codemirror_mode": {
    "name": "ipython",
    "version": 3
   },
   "file_extension": ".py",
   "mimetype": "text/x-python",
   "name": "python",
   "nbconvert_exporter": "python",
   "pygments_lexer": "ipython3",
   "version": "3.7.2"
  }
 },
 "nbformat": 4,
 "nbformat_minor": 2
}
