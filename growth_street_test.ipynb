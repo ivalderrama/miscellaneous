{
 "cells": [
  {
   "cell_type": "code",
   "execution_count": 2,
   "metadata": {},
   "outputs": [],
   "source": [
    "import random"
   ]
  },
  {
   "cell_type": "code",
   "execution_count": 3,
   "metadata": {},
   "outputs": [],
   "source": [
    "my_list = [43, 71, 43, 71, 71, 90, 90]"
   ]
  },
  {
   "cell_type": "code",
   "execution_count": 5,
   "metadata": {},
   "outputs": [
    {
     "name": "stdout",
     "output_type": "stream",
     "text": [
      "2 3 2\n",
      "[{'43': 2, '71': 3, '90': 2}]\n",
      "43 2\n",
      "even\n",
      "71 3\n",
      "71\n",
      "90 2\n",
      "even\n"
     ]
    }
   ],
   "source": [
    "count1 = 0\n",
    "count2 = 0\n",
    "count3 = 0\n",
    "\n",
    "my_list1 = []\n",
    "\n",
    "for i in my_list:\n",
    "    if i == 43:\n",
    "        count1 += 1\n",
    "    elif i == 71:\n",
    "        count2 += 1\n",
    "    elif i == 90:\n",
    "        count3 += 1\n",
    "    \n",
    "print(count1, count2, count3)\n",
    "\n",
    "my_list1.append( \n",
    "    {\n",
    "    '43': count1,\n",
    "    '71': count2,\n",
    "    '90': count3\n",
    "}\n",
    ")\n",
    "\n",
    "print(my_list1)\n",
    "\n",
    "for k, v in my_list1[0].items():\n",
    "    print(k,v)\n",
    "    if v%2 == 0:\n",
    "        print(\"even\")\n",
    "    else:\n",
    "        print(k)"
   ]
  },
  {
   "cell_type": "code",
   "execution_count": null,
   "metadata": {},
   "outputs": [],
   "source": []
  }
 ],
 "metadata": {
  "kernelspec": {
   "display_name": "Python 3",
   "language": "python",
   "name": "python3"
  },
  "language_info": {
   "codemirror_mode": {
    "name": "ipython",
    "version": 3
   },
   "file_extension": ".py",
   "mimetype": "text/x-python",
   "name": "python",
   "nbconvert_exporter": "python",
   "pygments_lexer": "ipython3",
   "version": "3.7.2"
  }
 },
 "nbformat": 4,
 "nbformat_minor": 2
}
