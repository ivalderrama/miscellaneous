{
 "cells": [
  {
   "cell_type": "code",
   "execution_count": 1,
   "metadata": {},
   "outputs": [],
   "source": [
    "import random\n",
    "\n",
    "# Euro millions\n",
    "\n",
    "numbers = [i for i in range(1, 51)]\n",
    "stars = [i for i in range(1, 13)]"
   ]
  },
  {
   "cell_type": "code",
   "execution_count": 2,
   "metadata": {},
   "outputs": [
    {
     "data": {
      "text/plain": [
       "[41, 40, 12, 43, 3]"
      ]
     },
     "execution_count": 2,
     "metadata": {},
     "output_type": "execute_result"
    }
   ],
   "source": [
    "[numbers.pop(random.choice(numbers)) for i in range(5)]"
   ]
  },
  {
   "cell_type": "code",
   "execution_count": 3,
   "metadata": {},
   "outputs": [
    {
     "data": {
      "text/plain": [
       "[8, 12]"
      ]
     },
     "execution_count": 3,
     "metadata": {},
     "output_type": "execute_result"
    }
   ],
   "source": [
    "[stars.pop(random.choice(stars)) for i in range(2)]"
   ]
  },
  {
   "cell_type": "code",
   "execution_count": null,
   "metadata": {},
   "outputs": [],
   "source": []
  },
  {
   "cell_type": "code",
   "execution_count": 4,
   "metadata": {},
   "outputs": [],
   "source": [
    "def gen_euromillions_quick_pick():\n",
    "    \"\"\"Generate euromillions quick pick\"\"\"\n",
    "    numbers = [i for i in range(1, 51)]\n",
    "    stars = [i for i in range(1, 13)]\n",
    "    \n",
    "    my_nums = [numbers.pop(random.choice(numbers)) for i in range(5)]\n",
    "    my_stars = [stars.pop(random.choice(stars)) for i in range(2)]\n",
    "    \n",
    "    lotto_nums = '' \n",
    "    lotto_stars = ''\n",
    "    \n",
    "    for i in my_nums:\n",
    "        lotto_nums += str(i)+' '\n",
    "        \n",
    "    for i in my_stars:\n",
    "        lotto_stars += str(i)+' '\n",
    "        \n",
    "    return f\"{lotto_nums} Lucky stars: {lotto_stars}\"\n"
   ]
  },
  {
   "cell_type": "code",
   "execution_count": 5,
   "metadata": {},
   "outputs": [
    {
     "data": {
      "text/plain": [
       "'38 6 17 23 34  Lucky stars: 10 9 '"
      ]
     },
     "execution_count": 5,
     "metadata": {},
     "output_type": "execute_result"
    }
   ],
   "source": [
    "gen_euromillions_quick_pick()"
   ]
  },
  {
   "cell_type": "code",
   "execution_count": 6,
   "metadata": {},
   "outputs": [],
   "source": [
    "def gen_euromillions_quick_pick_2():\n",
    "    \"\"\"Best option\"\"\"\n",
    "    numbers = [i for i in range(1, 51)]\n",
    "    stars = [i for i in range(1, 13)]\n",
    "    \n",
    "    my_nums = []\n",
    "    my_stars = []\n",
    "    \n",
    "    while len(my_nums) < 6:\n",
    "        number = random.choice(numbers)\n",
    "        \n",
    "        if number not in my_nums:\n",
    "            my_nums.append(number)\n",
    "        \n",
    "    while len(my_stars) < 2:\n",
    "        star = random.choice(stars)\n",
    "        \n",
    "        if star not in my_stars:\n",
    "            my_stars.append(star)\n",
    "    \n",
    "    lotto_nums = '' \n",
    "    lotto_stars = ''\n",
    "    \n",
    "    for i in my_nums:\n",
    "        lotto_nums += str(i)+' '\n",
    "        \n",
    "    for i in my_stars:\n",
    "        lotto_stars += str(i)+' '\n",
    "        \n",
    "    return f\"{lotto_nums} Lucky stars: {lotto_stars}\""
   ]
  },
  {
   "cell_type": "code",
   "execution_count": 7,
   "metadata": {},
   "outputs": [
    {
     "data": {
      "text/plain": [
       "'44 27 33 3 21 37  Lucky stars: 5 8 '"
      ]
     },
     "execution_count": 7,
     "metadata": {},
     "output_type": "execute_result"
    }
   ],
   "source": [
    "gen_euromillions_quick_pick_2()"
   ]
  },
  {
   "cell_type": "code",
   "execution_count": null,
   "metadata": {},
   "outputs": [],
   "source": []
  },
  {
   "cell_type": "code",
   "execution_count": 8,
   "metadata": {},
   "outputs": [],
   "source": [
    "def gen_uk_lotto_lucky_dip():\n",
    "    \"\"\"Generate UK lotto luck dip\"\"\"\n",
    "    \n",
    "    numbers = [i for i in range(1, 60)]\n",
    "     \n",
    "    my_nums = [numbers.pop(random.choice(numbers)) for i in range(6)]\n",
    "        \n",
    "    return my_nums"
   ]
  },
  {
   "cell_type": "code",
   "execution_count": 9,
   "metadata": {},
   "outputs": [
    {
     "data": {
      "text/plain": [
       "[45, 17, 16, 11, 48, 8]"
      ]
     },
     "execution_count": 9,
     "metadata": {},
     "output_type": "execute_result"
    }
   ],
   "source": [
    "gen_uk_lotto_lucky_dip()"
   ]
  },
  {
   "cell_type": "code",
   "execution_count": null,
   "metadata": {},
   "outputs": [],
   "source": []
  },
  {
   "cell_type": "code",
   "execution_count": 10,
   "metadata": {},
   "outputs": [],
   "source": [
    "def gen_uk_lotto_lucky_dip_2():\n",
    "    my_list = []\n",
    "\n",
    "    while len(my_list) < 6:\n",
    "        number = random.randint(1, 59)\n",
    "\n",
    "        if number not in my_list:\n",
    "            my_list.append(number)\n",
    "        \n",
    "    return my_list"
   ]
  },
  {
   "cell_type": "code",
   "execution_count": 11,
   "metadata": {},
   "outputs": [
    {
     "data": {
      "text/plain": [
       "[19, 14, 53, 30, 16, 2]"
      ]
     },
     "execution_count": 11,
     "metadata": {},
     "output_type": "execute_result"
    }
   ],
   "source": [
    "gen_uk_lotto_lucky_dip_2()"
   ]
  },
  {
   "cell_type": "code",
   "execution_count": null,
   "metadata": {},
   "outputs": [],
   "source": []
  },
  {
   "cell_type": "code",
   "execution_count": null,
   "metadata": {},
   "outputs": [],
   "source": []
  },
  {
   "cell_type": "code",
   "execution_count": 12,
   "metadata": {},
   "outputs": [
    {
     "name": "stdout",
     "output_type": "stream",
     "text": [
      "7 4 5 "
     ]
    }
   ],
   "source": [
    "num = [i for i in range(1, 11)]\n",
    "\n",
    "\n",
    "for i in range(3):\n",
    "    print(num.pop(random.choice(num)), end=\" \")"
   ]
  },
  {
   "cell_type": "code",
   "execution_count": 13,
   "metadata": {},
   "outputs": [],
   "source": [
    "def gen_uk_lotto_lucky_dip_3():\n",
    "    \"\"\"Best option\"\"\"\n",
    "    my_list = []\n",
    "    \n",
    "    num_list = [i for i in range(1, 60)]\n",
    "\n",
    "    while len(my_list) < 6:\n",
    "        number = random.choice(num_list)\n",
    "        \n",
    "        if number not in my_list:\n",
    "            my_list.append(number)\n",
    "        \n",
    "    return my_list"
   ]
  },
  {
   "cell_type": "code",
   "execution_count": 14,
   "metadata": {},
   "outputs": [
    {
     "data": {
      "text/plain": [
       "[14, 21, 25, 51, 29, 16]"
      ]
     },
     "execution_count": 14,
     "metadata": {},
     "output_type": "execute_result"
    }
   ],
   "source": [
    "gen_uk_lotto_lucky_dip_3()"
   ]
  },
  {
   "cell_type": "code",
   "execution_count": null,
   "metadata": {},
   "outputs": [],
   "source": []
  },
  {
   "cell_type": "code",
   "execution_count": null,
   "metadata": {},
   "outputs": [],
   "source": [
    "numbers = [i for i in range(1, 60)]\n",
    "     \n",
    "my_nums = [numbers.pop(random.choice(numbers)) for i in range(6)]\n",
    "\n",
    "for i in range()"
   ]
  }
 ],
 "metadata": {
  "kernelspec": {
   "display_name": "Python 3",
   "language": "python",
   "name": "python3"
  },
  "language_info": {
   "codemirror_mode": {
    "name": "ipython",
    "version": 3
   },
   "file_extension": ".py",
   "mimetype": "text/x-python",
   "name": "python",
   "nbconvert_exporter": "python",
   "pygments_lexer": "ipython3",
   "version": "3.7.3"
  }
 },
 "nbformat": 4,
 "nbformat_minor": 2
}
