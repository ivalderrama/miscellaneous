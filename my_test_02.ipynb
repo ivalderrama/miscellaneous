{
 "cells": [
  {
   "cell_type": "code",
   "execution_count": 4,
   "metadata": {},
   "outputs": [],
   "source": [
    "my_list = ['New York',\n",
    " 'California',\n",
    " 'Illinois',\n",
    " 'Texas',\n",
    " 'Arizona',\n",
    " 'Pennsylvania',\n",
    " 'Florida',\n",
    " 'Ohio',\n",
    " 'North Carolina',\n",
    " 'Indiana',\n",
    " 'Washington',\n",
    " 'Colorado',\n",
    " 'District of Columbia',\n",
    " 'Massachusetts',\n",
    " 'Michigan',\n",
    " 'Tennessee',\n",
    " 'Oregon',\n",
    " 'Oklahoma',\n",
    " 'Nevada',\n",
    " 'Kentucky',\n",
    " 'Maryland',\n",
    " 'Wisconsin',\n",
    " 'New Mexico',\n",
    " 'Georgia',\n",
    " 'Missouri',\n",
    " 'Nebraska',\n",
    " 'Virginia',\n",
    " 'Minnesota',\n",
    " 'Louisiana',\n",
    " 'Kansas',\n",
    " 'Hawaii',\n",
    " 'Alaska',\n",
    " 'New Jersey',\n",
    " 'Idaho',\n",
    " 'Iowa',\n",
    " 'Alabama',\n",
    " 'Utah',\n",
    " 'Arkansas',\n",
    " 'South Dakota',\n",
    " 'Rhode Island',\n",
    " 'Mississippi',\n",
    " 'Connecticut',\n",
    " 'South Carolina',\n",
    " 'North Dakota',\n",
    " 'New Hampshire',\n",
    " 'Montana']"
   ]
  },
  {
   "cell_type": "code",
   "execution_count": 5,
   "metadata": {},
   "outputs": [],
   "source": [
    "states = ['\\n',\n",
    " '\\n',\n",
    " '\\n',\n",
    " '\\n',\n",
    " '\\n',\n",
    " '\\n',\n",
    " 'Texas\\n',\n",
    " 'California\\n',\n",
    " 'Texas\\n',\n",
    " 'California\\n',\n",
    " 'Texas\\n',\n",
    " '\\n',\n",
    " 'Texas\\n',\n",
    " '\\n',\n",
    " 'California\\n',\n",
    " '\\n',\n",
    " '\\n',\n",
    " '\\n',\n",
    " '\\n',\n",
    " '\\n',\n",
    " '\\n',\n",
    " 'Texas\\n',\n",
    " '\\n',\n",
    " '\\n',\n",
    " '\\n',\n",
    " 'Tennessee\\n',\n",
    " '\\n',\n",
    " '\\n',\n",
    " '\\n',\n",
    " '\\n',\n",
    " '\\n',\n",
    " '\\n',\n",
    " 'Arizona\\n',\n",
    " 'California\\n',\n",
    " 'Arizona\\n',\n",
    " 'California\\n',\n",
    " '\\n',\n",
    " '\\n',\n",
    " 'Colorado\\n',\n",
    " 'Florida\\n',\n",
    " 'North Carolina\\n',\n",
    " '\\n',\n",
    " 'California\\n',\n",
    " '\\n',\n",
    " 'California\\n',\n",
    " '\\n',\n",
    " 'Oklahoma\\n',\n",
    " 'Texas\\n',\n",
    " 'Florida\\n',\n",
    " '\\n',\n",
    " '\\n',\n",
    " 'Ohio\\n',\n",
    " 'California\\n',\n",
    " 'Colorado\\n',\n",
    " 'California\\n',\n",
    " '\\n',\n",
    " 'California\\n',\n",
    " 'California\\n',\n",
    " 'Texas\\n',\n",
    " 'Kentucky\\n',\n",
    " 'California\\n',\n",
    " 'Nevada\\n',\n",
    " 'Minnesota\\n',\n",
    " 'Missouri\\n',\n",
    " 'Ohio\\n',\n",
    " 'Pennsylvania\\n',\n",
    " 'North Carolina\\n',\n",
    " '\\n',\n",
    " 'Texas\\n',\n",
    " 'Nebraska\\n',\n",
    " 'Florida\\n',\n",
    " 'California\\n',\n",
    " '\\n',\n",
    " 'Ohio\\n',\n",
    " 'North Carolina\\n',\n",
    " 'California\\n',\n",
    " 'Indiana\\n',\n",
    " 'New Jersey\\n',\n",
    " 'Florida\\n',\n",
    " 'Texas\\n',\n",
    " 'Wisconsin\\n',\n",
    " 'Arizona\\n',\n",
    " 'New York\\n',\n",
    " 'Texas\\n',\n",
    " 'Arizona\\n',\n",
    " 'Nevada\\n',\n",
    " 'Arizona\\n',\n",
    " 'Arizona\\n',\n",
    " 'North Carolina\\n',\n",
    " 'Nevada\\n',\n",
    " 'Virginia\\n',\n",
    " 'Virginia\\n',\n",
    " 'Texas\\n',\n",
    " 'Texas\\n',\n",
    " 'Florida\\n',\n",
    " 'California\\n',\n",
    " '\\n',\n",
    " 'Virginia\\n',\n",
    " 'Louisiana\\n',\n",
    " 'Washington\\n',\n",
    " '\\n',\n",
    " 'Washington\\n',\n",
    " 'California\\n',\n",
    " 'California\\n',\n",
    " 'California\\n',\n",
    " 'California\\n',\n",
    " '\\n',\n",
    " 'California\\n',\n",
    " 'North Carolina\\n',\n",
    " 'California\\n',\n",
    " 'New York\\n',\n",
    " 'California\\n',\n",
    " 'California\\n',\n",
    " '\\n',\n",
    " 'Michigan\\n',\n",
    " 'Texas\\n',\n",
    " 'New York\\n',\n",
    " 'Illinois\\n',\n",
    " 'Alabama\\n',\n",
    " 'Ohio\\n',\n",
    " '\\n',\n",
    " 'Alabama\\n',\n",
    " 'Georgia\\n',\n",
    " 'Florida\\n',\n",
    " 'Texas\\n',\n",
    " 'Georgia\\n',\n",
    " 'Florida\\n',\n",
    " 'Kansas\\n',\n",
    " 'Arizona\\n',\n",
    " 'Texas\\n',\n",
    " 'Alabama\\n',\n",
    " 'Florida\\n',\n",
    " 'Louisiana\\n',\n",
    " 'Texas\\n',\n",
    " 'Tennessee\\n',\n",
    " 'Massachusetts\\n',\n",
    " 'Texas\\n',\n",
    " 'Washington\\n',\n",
    " 'Florida\\n',\n",
    " '\\n',\n",
    " 'California\\n',\n",
    " 'Tennessee\\n',\n",
    " '\\n',\n",
    " 'Virginia\\n',\n",
    " 'California\\n',\n",
    " 'California\\n',\n",
    " 'California\\n',\n",
    " 'Oregon\\n',\n",
    " 'California\\n',\n",
    " 'California\\n',\n",
    " 'Florida\\n',\n",
    " 'Arizona\\n',\n",
    " 'Oregon\\n',\n",
    " 'California\\n',\n",
    " 'North Carolina\\n',\n",
    " 'Missouri\\n',\n",
    " 'Colorado\\n',\n",
    " '\\n',\n",
    " 'Virginia\\n',\n",
    " 'California\\n',\n",
    " 'California\\n',\n",
    " 'Colorado\\n',\n",
    " 'Tennessee\\n',\n",
    " 'California\\n',\n",
    " 'California\\n',\n",
    " 'Massachusetts\\n',\n",
    " 'Florida\\n',\n",
    " 'Texas\\n',\n",
    " 'California\\n',\n",
    " 'Georgia\\n',\n",
    " 'Kansas\\n',\n",
    " 'California\\n',\n",
    " 'California\\n',\n",
    " 'Texas\\n',\n",
    " 'Illinois\\n',\n",
    " 'Illinois\\n',\n",
    " 'Washington\\n',\n",
    " 'Illinois\\n',\n",
    " 'Georgia\\n',\n",
    " 'New Jersey\\n',\n",
    " 'California\\n',\n",
    " '\\n',\n",
    " 'Texas\\n',\n",
    " 'Texas\\n',\n",
    " 'New York\\n',\n",
    " 'Texas\\n',\n",
    " 'California\\n',\n",
    " 'Tennessee\\n',\n",
    " 'Florida\\n',\n",
    " 'Ohio\\n',\n",
    " 'California\\n',\n",
    " 'Kansas\\n',\n",
    " 'California\\n',\n",
    " 'Colorado\\n',\n",
    " 'California\\n',\n",
    " 'Texas\\n',\n",
    " 'Texas\\n',\n",
    " 'Arizona\\n',\n",
    " 'Texas\\n',\n",
    " 'Utah\\n',\n",
    " '\\n',\n",
    " 'Michigan\\n',\n",
    " 'Virginia\\n',\n",
    " 'Florida\\n',\n",
    " 'California\\n',\n",
    " 'Florida\\n',\n",
    " 'South Carolina\\n',\n",
    " 'Iowa\\n',\n",
    " 'Michigan\\n',\n",
    " 'Connecticut\\n',\n",
    " 'Connecticut\\n',\n",
    " 'California\\n',\n",
    " 'Washington\\n',\n",
    " 'California\\n',\n",
    " 'New Jersey\\n',\n",
    " 'Texas\\n',\n",
    " 'California\\n',\n",
    " 'Louisiana\\n',\n",
    " 'Georgia\\n',\n",
    " 'Kansas\\n',\n",
    " 'California\\n',\n",
    " '\\n',\n",
    " 'Oklahoma\\n',\n",
    " 'Missouri\\n',\n",
    " 'Texas\\n',\n",
    " 'North Carolina\\n',\n",
    " 'Connecticut\\n',\n",
    " 'California\\n',\n",
    " 'Texas\\n',\n",
    " 'California\\n',\n",
    " 'Michigan\\n',\n",
    " 'California\\n',\n",
    " 'Pennsylvania\\n',\n",
    " 'Texas\\n',\n",
    " 'Texas\\n',\n",
    " 'Colorado\\n',\n",
    " 'Massachusetts\\n',\n",
    " 'Texas\\n',\n",
    " 'Texas\\n',\n",
    " 'Michigan\\n',\n",
    " 'Indiana\\n',\n",
    " 'Minnesota\\n',\n",
    " 'Missouri\\n',\n",
    " 'California\\n',\n",
    " 'Utah\\n',\n",
    " 'Florida\\n',\n",
    " 'Texas\\n',\n",
    " 'Utah\\n',\n",
    " 'California\\n',\n",
    " 'California\\n',\n",
    " 'California\\n',\n",
    " 'California\\n',\n",
    " 'Illinois\\n',\n",
    " 'Florida\\n',\n",
    " 'California\\n',\n",
    " 'Colorado\\n',\n",
    " 'South Carolina\\n',\n",
    " 'Florida\\n',\n",
    " '\\n',\n",
    " 'North Carolina\\n',\n",
    " 'California\\n',\n",
    " 'California\\n',\n",
    " 'Florida\\n',\n",
    " 'Colorado\\n',\n",
    " 'Illinois\\n',\n",
    " 'Massachusetts\\n',\n",
    " 'California\\n',\n",
    " 'Florida\\n',\n",
    " 'Illinois\\n',\n",
    " 'Washington\\n',\n",
    " 'California\\n',\n",
    " 'Colorado\\n',\n",
    " 'Florida\\n',\n",
    " 'Oregon\\n',\n",
    " 'California\\n',\n",
    " '\\n',\n",
    " 'California\\n',\n",
    " 'Oklahoma\\n',\n",
    " 'Georgia\\n',\n",
    " 'California\\n',\n",
    " 'Oregon\\n',\n",
    " 'Connecticut\\n',\n",
    " 'California\\n',\n",
    " 'Colorado\\n',\n",
    " 'Colorado\\n',\n",
    " 'California\\n',\n",
    " 'Idaho\\n',\n",
    " 'Texas\\n',\n",
    " 'Florida\\n',\n",
    " 'California\\n',\n",
    " 'Texas\\n',\n",
    " 'Texas\\n',\n",
    " 'California\\n',\n",
    " 'California\\n',\n",
    " 'Wisconsin\\n',\n",
    " 'Texas\\n',\n",
    " 'Nevada\\n',\n",
    " 'New Jersey\\n',\n",
    " 'California\\n',\n",
    " 'California\\n',\n",
    " 'Texas\\n',\n",
    " 'California\\n',\n",
    " 'New Mexico\\n',\n",
    " 'Washington\\n',\n",
    " 'Iowa\\n',\n",
    " 'Indiana\\n',\n",
    " 'California\\n',\n",
    " 'Alabama\\n',\n",
    " 'Michigan\\n',\n",
    " 'New Jersey\\n',\n",
    " 'New Jersey\\n',\n",
    " 'Texas\\n',\n",
    " 'Wisconsin\\n',\n",
    " 'California\\n']"
   ]
  },
  {
   "cell_type": "code",
   "execution_count": null,
   "metadata": {},
   "outputs": [],
   "source": []
  },
  {
   "cell_type": "code",
   "execution_count": null,
   "metadata": {},
   "outputs": [],
   "source": []
  },
  {
   "cell_type": "code",
   "execution_count": null,
   "metadata": {},
   "outputs": [],
   "source": []
  },
  {
   "cell_type": "code",
   "execution_count": 1,
   "metadata": {},
   "outputs": [
    {
     "name": "stdout",
     "output_type": "stream",
     "text": [
      "[1, 2, 4, 4.4, 4.9, 5, 6, 9, 10, 11]\n"
     ]
    }
   ],
   "source": [
    "my_list1 = [1, \"\", 4, \"\", \"\", 5, 6, 9, \"\", 11]\n",
    "my_list2 = [2, 4.4, 4.9, 10]\n",
    "\n",
    "my_list3 = []\n",
    "\n",
    "for val in my_list1:\n",
    "    if val == '':\n",
    "        my_list3.append(my_list2.pop(0))\n",
    "    else:\n",
    "        my_list3.append(val)\n",
    "\n",
    "print(my_list3)"
   ]
  },
  {
   "cell_type": "code",
   "execution_count": 6,
   "metadata": {},
   "outputs": [
    {
     "name": "stdout",
     "output_type": "stream",
     "text": [
      "['New York', 'California', 'Illinois', 'Texas', 'Arizona', 'Pennsylvania', 'Texas\\n', 'California\\n', 'Texas\\n', 'California\\n', 'Texas\\n', 'Florida', 'Texas\\n', 'Ohio', 'California\\n', 'North Carolina', 'Indiana', 'Washington', 'Colorado', 'District of Columbia', 'Massachusetts', 'Texas\\n', 'Michigan', 'Tennessee', 'Oregon', 'Tennessee\\n', 'Oklahoma', 'Nevada', 'Kentucky', 'Maryland', 'Wisconsin', 'New Mexico', 'Arizona\\n', 'California\\n', 'Arizona\\n', 'California\\n', 'Georgia', 'Missouri', 'Colorado\\n', 'Florida\\n', 'North Carolina\\n', 'Nebraska', 'California\\n', 'Virginia', 'California\\n', 'Minnesota', 'Oklahoma\\n', 'Texas\\n', 'Florida\\n', 'Louisiana', 'Kansas', 'Ohio\\n', 'California\\n', 'Colorado\\n', 'California\\n', 'Hawaii', 'California\\n', 'California\\n', 'Texas\\n', 'Kentucky\\n', 'California\\n', 'Nevada\\n', 'Minnesota\\n', 'Missouri\\n', 'Ohio\\n', 'Pennsylvania\\n', 'North Carolina\\n', 'Alaska', 'Texas\\n', 'Nebraska\\n', 'Florida\\n', 'California\\n', 'New Jersey', 'Ohio\\n', 'North Carolina\\n', 'California\\n', 'Indiana\\n', 'New Jersey\\n', 'Florida\\n', 'Texas\\n', 'Wisconsin\\n', 'Arizona\\n', 'New York\\n', 'Texas\\n', 'Arizona\\n', 'Nevada\\n', 'Arizona\\n', 'Arizona\\n', 'North Carolina\\n', 'Nevada\\n', 'Virginia\\n', 'Virginia\\n', 'Texas\\n', 'Texas\\n', 'Florida\\n', 'California\\n', 'Idaho', 'Virginia\\n', 'Louisiana\\n', 'Washington\\n', 'Iowa', 'Washington\\n', 'California\\n', 'California\\n', 'California\\n', 'California\\n', 'Alabama', 'California\\n', 'North Carolina\\n', 'California\\n', 'New York\\n', 'California\\n', 'California\\n', 'Utah', 'Michigan\\n', 'Texas\\n', 'New York\\n', 'Illinois\\n', 'Alabama\\n', 'Ohio\\n', 'Arkansas', 'Alabama\\n', 'Georgia\\n', 'Florida\\n', 'Texas\\n', 'Georgia\\n', 'Florida\\n', 'Kansas\\n', 'Arizona\\n', 'Texas\\n', 'Alabama\\n', 'Florida\\n', 'Louisiana\\n', 'Texas\\n', 'Tennessee\\n', 'Massachusetts\\n', 'Texas\\n', 'Washington\\n', 'Florida\\n', 'South Dakota', 'California\\n', 'Tennessee\\n', 'Rhode Island', 'Virginia\\n', 'California\\n', 'California\\n', 'California\\n', 'Oregon\\n', 'California\\n', 'California\\n', 'Florida\\n', 'Arizona\\n', 'Oregon\\n', 'California\\n', 'North Carolina\\n', 'Missouri\\n', 'Colorado\\n', 'Mississippi', 'Virginia\\n', 'California\\n', 'California\\n', 'Colorado\\n', 'Tennessee\\n', 'California\\n', 'California\\n', 'Massachusetts\\n', 'Florida\\n', 'Texas\\n', 'California\\n', 'Georgia\\n', 'Kansas\\n', 'California\\n', 'California\\n', 'Texas\\n', 'Illinois\\n', 'Illinois\\n', 'Washington\\n', 'Illinois\\n', 'Georgia\\n', 'New Jersey\\n', 'California\\n', 'Connecticut', 'Texas\\n', 'Texas\\n', 'New York\\n', 'Texas\\n', 'California\\n', 'Tennessee\\n', 'Florida\\n', 'Ohio\\n', 'California\\n', 'Kansas\\n', 'California\\n', 'Colorado\\n', 'California\\n', 'Texas\\n', 'Texas\\n', 'Arizona\\n', 'Texas\\n', 'Utah\\n', 'South Carolina', 'Michigan\\n', 'Virginia\\n', 'Florida\\n', 'California\\n', 'Florida\\n', 'South Carolina\\n', 'Iowa\\n', 'Michigan\\n', 'Connecticut\\n', 'Connecticut\\n', 'California\\n', 'Washington\\n', 'California\\n', 'New Jersey\\n', 'Texas\\n', 'California\\n', 'Louisiana\\n', 'Georgia\\n', 'Kansas\\n', 'California\\n', 'North Dakota', 'Oklahoma\\n', 'Missouri\\n', 'Texas\\n', 'North Carolina\\n', 'Connecticut\\n', 'California\\n', 'Texas\\n', 'California\\n', 'Michigan\\n', 'California\\n', 'Pennsylvania\\n', 'Texas\\n', 'Texas\\n', 'Colorado\\n', 'Massachusetts\\n', 'Texas\\n', 'Texas\\n', 'Michigan\\n', 'Indiana\\n', 'Minnesota\\n', 'Missouri\\n', 'California\\n', 'Utah\\n', 'Florida\\n', 'Texas\\n', 'Utah\\n', 'California\\n', 'California\\n', 'California\\n', 'California\\n', 'Illinois\\n', 'Florida\\n', 'California\\n', 'Colorado\\n', 'South Carolina\\n', 'Florida\\n', 'New Hampshire', 'North Carolina\\n', 'California\\n', 'California\\n', 'Florida\\n', 'Colorado\\n', 'Illinois\\n', 'Massachusetts\\n', 'California\\n', 'Florida\\n', 'Illinois\\n', 'Washington\\n', 'California\\n', 'Colorado\\n', 'Florida\\n', 'Oregon\\n', 'California\\n', 'Montana', 'California\\n', 'Oklahoma\\n', 'Georgia\\n', 'California\\n', 'Oregon\\n', 'Connecticut\\n', 'California\\n', 'Colorado\\n', 'Colorado\\n', 'California\\n', 'Idaho\\n', 'Texas\\n', 'Florida\\n', 'California\\n', 'Texas\\n', 'Texas\\n', 'California\\n', 'California\\n', 'Wisconsin\\n', 'Texas\\n', 'Nevada\\n', 'New Jersey\\n', 'California\\n', 'California\\n', 'Texas\\n', 'California\\n', 'New Mexico\\n', 'Washington\\n', 'Iowa\\n', 'Indiana\\n', 'California\\n', 'Alabama\\n', 'Michigan\\n', 'New Jersey\\n', 'New Jersey\\n', 'Texas\\n', 'Wisconsin\\n', 'California\\n']\n"
     ]
    }
   ],
   "source": [
    "new_list = []\n",
    "\n",
    "for i in states:\n",
    "    if i == '\\n':\n",
    "        new_list.append(my_list.pop(0))\n",
    "    else:\n",
    "        new_list.append(i)\n",
    "        \n",
    "print(new_list)"
   ]
  },
  {
   "cell_type": "code",
   "execution_count": 5,
   "metadata": {},
   "outputs": [
    {
     "data": {
      "text/plain": [
       "22"
      ]
     },
     "execution_count": 5,
     "metadata": {},
     "output_type": "execute_result"
    }
   ],
   "source": [
    "arr = [9, 3, '7', '3']\n",
    "\n",
    "num = 0\n",
    "\n",
    "for i in arr:\n",
    "    num += int(i)\n",
    "    \n",
    "num"
   ]
  },
  {
   "cell_type": "code",
   "execution_count": 7,
   "metadata": {},
   "outputs": [],
   "source": [
    "stocks = {'AAPL': 171.62, 'MSFT': 113.45, 'AMZN': 1670.98}"
   ]
  },
  {
   "cell_type": "code",
   "execution_count": 11,
   "metadata": {},
   "outputs": [
    {
     "name": "stdout",
     "output_type": "stream",
     "text": [
      "[('AAPL', 171.62), ('MSFT', 113.45), ('AMZN', 1670.98)]\n"
     ]
    }
   ],
   "source": [
    "print(list(stocks.items()))"
   ]
  },
  {
   "cell_type": "code",
   "execution_count": 16,
   "metadata": {},
   "outputs": [
    {
     "name": "stdout",
     "output_type": "stream",
     "text": [
      "Ticker is AAPL, price is 171.62\n",
      "Ticker is MSFT, price is 113.45\n",
      "Ticker is AMZN, price is 1670.98\n"
     ]
    }
   ],
   "source": [
    "for k, v in stocks.items():\n",
    "    print(f\"Ticker is {k}, price is {v}\")"
   ]
  },
  {
   "cell_type": "code",
   "execution_count": 25,
   "metadata": {},
   "outputs": [
    {
     "name": "stdout",
     "output_type": "stream",
     "text": [
      "moob"
     ]
    }
   ],
   "source": [
    "string = 'boom'\n",
    "\n",
    "for i in range(len(string), 0, -1):\n",
    "    print(string[i-1], end='')"
   ]
  },
  {
   "cell_type": "code",
   "execution_count": 18,
   "metadata": {},
   "outputs": [
    {
     "data": {
      "text/plain": [
       "'moob'"
      ]
     },
     "execution_count": 18,
     "metadata": {},
     "output_type": "execute_result"
    }
   ],
   "source": [
    "string[::-1]"
   ]
  },
  {
   "cell_type": "code",
   "execution_count": 1,
   "metadata": {},
   "outputs": [],
   "source": [
    "my_list = [(91401583.0, 44.5079211390026), (92237118.0, 45.206665319194), (93014890.0, 45.866564696018), (93845749.0, 46.5340927663649), (94722599.0, 47.2087429803526)]"
   ]
  },
  {
   "cell_type": "code",
   "execution_count": 2,
   "metadata": {},
   "outputs": [
    {
     "data": {
      "text/plain": [
       "[(91401583.0, 44.5079211390026),\n",
       " (92237118.0, 45.206665319194),\n",
       " (93014890.0, 45.866564696018),\n",
       " (93845749.0, 46.5340927663649),\n",
       " (94722599.0, 47.2087429803526)]"
      ]
     },
     "execution_count": 2,
     "metadata": {},
     "output_type": "execute_result"
    }
   ],
   "source": [
    "my_list"
   ]
  },
  {
   "cell_type": "code",
   "execution_count": 8,
   "metadata": {},
   "outputs": [
    {
     "data": {
      "text/plain": [
       "[40680944, 41697325, 42662734, 43670267, 44717348]"
      ]
     },
     "execution_count": 8,
     "metadata": {},
     "output_type": "execute_result"
    }
   ],
   "source": [
    "[int(i[0] * (i[1]/100)) for i in my_list]"
   ]
  },
  {
   "cell_type": "code",
   "execution_count": 5,
   "metadata": {},
   "outputs": [
    {
     "data": {
      "text/plain": [
       "'9119'"
      ]
     },
     "execution_count": 5,
     "metadata": {},
     "output_type": "execute_result"
    }
   ],
   "source": [
    "num = 9119\n",
    "\n",
    "str(num)"
   ]
  },
  {
   "cell_type": "code",
   "execution_count": 18,
   "metadata": {},
   "outputs": [],
   "source": [
    "test = [str((int(i))**2) for i in str(num)]"
   ]
  },
  {
   "cell_type": "code",
   "execution_count": 19,
   "metadata": {},
   "outputs": [
    {
     "name": "stdout",
     "output_type": "stream",
     "text": [
      "811181\n"
     ]
    }
   ],
   "source": [
    "string_num = ''\n",
    "\n",
    "for i in test:\n",
    "    string_num += i\n",
    "    \n",
    "print(string_num)"
   ]
  },
  {
   "cell_type": "code",
   "execution_count": 20,
   "metadata": {},
   "outputs": [
    {
     "data": {
      "text/plain": [
       "['h', 'e', 'l', 'l', 'o']"
      ]
     },
     "execution_count": 20,
     "metadata": {},
     "output_type": "execute_result"
    }
   ],
   "source": [
    "list('hello')"
   ]
  },
  {
   "cell_type": "code",
   "execution_count": 23,
   "metadata": {},
   "outputs": [
    {
     "data": {
      "text/plain": [
       "'hello'"
      ]
     },
     "execution_count": 23,
     "metadata": {},
     "output_type": "execute_result"
    }
   ],
   "source": [
    "''.join(['h', 'e', 'l', 'l', 'o'])"
   ]
  },
  {
   "cell_type": "code",
   "execution_count": 20,
   "metadata": {},
   "outputs": [],
   "source": [
    "name = 'sam harris'"
   ]
  },
  {
   "cell_type": "code",
   "execution_count": 21,
   "metadata": {},
   "outputs": [],
   "source": [
    "boom = name.upper().split()"
   ]
  },
  {
   "cell_type": "code",
   "execution_count": 22,
   "metadata": {},
   "outputs": [
    {
     "data": {
      "text/plain": [
       "'S.H'"
      ]
     },
     "execution_count": 22,
     "metadata": {},
     "output_type": "execute_result"
    }
   ],
   "source": [
    "list(boom[0])[0] + '.' + list(boom[1])[0]"
   ]
  },
  {
   "cell_type": "code",
   "execution_count": 29,
   "metadata": {},
   "outputs": [],
   "source": [
    "alphabet = list('abcdefghijklmnopqrstuvwxyz')"
   ]
  },
  {
   "cell_type": "code",
   "execution_count": 49,
   "metadata": {},
   "outputs": [
    {
     "data": {
      "text/plain": [
       "{'a': 1,\n",
       " 'b': 2,\n",
       " 'c': 3,\n",
       " 'd': 4,\n",
       " 'e': 5,\n",
       " 'f': 6,\n",
       " 'g': 7,\n",
       " 'h': 8,\n",
       " 'i': 9,\n",
       " 'j': 10,\n",
       " 'k': 11,\n",
       " 'l': 12,\n",
       " 'm': 13,\n",
       " 'n': 14,\n",
       " 'o': 15,\n",
       " 'p': 16,\n",
       " 'q': 17,\n",
       " 'r': 18,\n",
       " 's': 19,\n",
       " 't': 20,\n",
       " 'u': 21,\n",
       " 'v': 22,\n",
       " 'w': 23,\n",
       " 'x': 24,\n",
       " 'y': 25,\n",
       " 'z': 26}"
      ]
     },
     "execution_count": 49,
     "metadata": {},
     "output_type": "execute_result"
    }
   ],
   "source": [
    "alpha_num = {i: e for e, i in enumerate(alphabet, start=1)}\n",
    "alpha_num"
   ]
  },
  {
   "cell_type": "code",
   "execution_count": 47,
   "metadata": {},
   "outputs": [],
   "source": [
    "num = 0\n",
    "\n",
    "s = 'abc' # 7\n",
    "\n",
    "for i in s:\n",
    "    num += alpha_num[i]"
   ]
  },
  {
   "cell_type": "code",
   "execution_count": 48,
   "metadata": {},
   "outputs": [
    {
     "data": {
      "text/plain": [
       "6"
      ]
     },
     "execution_count": 48,
     "metadata": {},
     "output_type": "execute_result"
    }
   ],
   "source": [
    "num"
   ]
  },
  {
   "cell_type": "code",
   "execution_count": null,
   "metadata": {},
   "outputs": [],
   "source": []
  }
 ],
 "metadata": {
  "kernelspec": {
   "display_name": "Python 3",
   "language": "python",
   "name": "python3"
  },
  "language_info": {
   "codemirror_mode": {
    "name": "ipython",
    "version": 3
   },
   "file_extension": ".py",
   "mimetype": "text/x-python",
   "name": "python",
   "nbconvert_exporter": "python",
   "pygments_lexer": "ipython3",
   "version": "3.7.3"
  }
 },
 "nbformat": 4,
 "nbformat_minor": 2
}
