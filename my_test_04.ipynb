{
 "cells": [
  {
   "cell_type": "code",
   "execution_count": 1,
   "metadata": {},
   "outputs": [],
   "source": [
    "class Student:\n",
    "    def __init__(self, name, fives, tens, twenties):\n",
    "        self.name = name\n",
    "        self.fives = fives\n",
    "        self.tens = tens\n",
    "        self.twenties = twenties\n",
    "        "
   ]
  },
  {
   "cell_type": "code",
   "execution_count": 2,
   "metadata": {},
   "outputs": [],
   "source": [
    "phil = Student(\"Phil\", 2, 2, 1)\n",
    "cam = Student(\"Cameron\", 2, 2, 0)\n",
    "geoff = Student(\"Geoff\", 0, 3, 0)"
   ]
  },
  {
   "cell_type": "code",
   "execution_count": 3,
   "metadata": {},
   "outputs": [
    {
     "data": {
      "text/plain": [
       "1"
      ]
     },
     "execution_count": 3,
     "metadata": {},
     "output_type": "execute_result"
    }
   ],
   "source": [
    "phil.twenties"
   ]
  },
  {
   "cell_type": "code",
   "execution_count": 4,
   "metadata": {},
   "outputs": [],
   "source": [
    "students = [cam, geoff, phil]"
   ]
  },
  {
   "cell_type": "code",
   "execution_count": 5,
   "metadata": {},
   "outputs": [
    {
     "name": "stdout",
     "output_type": "stream",
     "text": [
      "Cameron\n",
      "2\n",
      "2\n",
      "0\n",
      "30\n",
      "Geoff\n",
      "0\n",
      "3\n",
      "0\n",
      "30\n",
      "Phil\n",
      "2\n",
      "2\n",
      "1\n",
      "50\n"
     ]
    }
   ],
   "source": [
    "my_dict = {}\n",
    "my_tuple = []\n",
    "\n",
    "for i in students:\n",
    "    my_list = []\n",
    "    print(i.name)\n",
    "    print(i.fives)\n",
    "    print(i.tens)\n",
    "    print(i.twenties)\n",
    "    my_list.append(i.fives * 5)\n",
    "    my_list.append(i.tens * 10)\n",
    "    my_list.append(i.twenties * 20)\n",
    "    print(sum(my_list))\n",
    "    my_dict[i.name] = sum(my_list)\n",
    "    my_tuple.append((i.name, sum(my_list)))\n",
    "    "
   ]
  },
  {
   "cell_type": "code",
   "execution_count": 6,
   "metadata": {},
   "outputs": [
    {
     "data": {
      "text/plain": [
       "{'Cameron': 30, 'Geoff': 30, 'Phil': 50}"
      ]
     },
     "execution_count": 6,
     "metadata": {},
     "output_type": "execute_result"
    }
   ],
   "source": [
    "my_dict"
   ]
  },
  {
   "cell_type": "code",
   "execution_count": 7,
   "metadata": {},
   "outputs": [
    {
     "data": {
      "text/plain": [
       "[('Cameron', 30), ('Geoff', 30), ('Phil', 50)]"
      ]
     },
     "execution_count": 7,
     "metadata": {},
     "output_type": "execute_result"
    }
   ],
   "source": [
    "my_tuple"
   ]
  },
  {
   "cell_type": "code",
   "execution_count": 8,
   "metadata": {},
   "outputs": [
    {
     "name": "stdout",
     "output_type": "stream",
     "text": [
      "Phil\n"
     ]
    }
   ],
   "source": [
    "max(my_tuple)\n",
    "print(max(my_tuple)[0])"
   ]
  },
  {
   "cell_type": "code",
   "execution_count": 9,
   "metadata": {},
   "outputs": [],
   "source": [
    "my_tuple2 = [('Cameron', 30), ('Geoff', 30), ('Phil', 50)]"
   ]
  },
  {
   "cell_type": "code",
   "execution_count": 10,
   "metadata": {},
   "outputs": [],
   "source": [
    "my_max = max(my_tuple2)[1]"
   ]
  },
  {
   "cell_type": "code",
   "execution_count": 11,
   "metadata": {},
   "outputs": [
    {
     "data": {
      "text/plain": [
       "50"
      ]
     },
     "execution_count": 11,
     "metadata": {},
     "output_type": "execute_result"
    }
   ],
   "source": [
    "my_max"
   ]
  },
  {
   "cell_type": "code",
   "execution_count": 12,
   "metadata": {},
   "outputs": [],
   "source": [
    "def most_money(students):\n",
    "    \n",
    "    if len(students) > 1:\n",
    "        my_dict = {}\n",
    "        my_tuple = []\n",
    "\n",
    "        for i in students:\n",
    "            my_list = []\n",
    "            print(i.name)\n",
    "            print(i.fives)\n",
    "            print(i.tens)\n",
    "            print(i.twenties)\n",
    "            my_list.append(i.fives * 5)\n",
    "            my_list.append(i.tens * 10)\n",
    "            my_list.append(i.twenties * 20)\n",
    "            print(sum(my_list))\n",
    "            my_dict[i.name] = sum(my_list)\n",
    "            my_tuple.append((i.name, sum(my_list)))\n",
    "\n",
    "        test_list = []\n",
    "\n",
    "        for i, j in my_tuple:\n",
    "            test_list.append(j)\n",
    "            \n",
    "        max_in_list = test_list.index(max(test_list))\n",
    "        \n",
    "        if test_list.count(max(test_list)) > 1:\n",
    "            return 'all'\n",
    "        else:\n",
    "            return my_tuple[max_in_list][0]\n",
    "        \n",
    "    else:\n",
    "        return students[0].name\n",
    "    "
   ]
  },
  {
   "cell_type": "code",
   "execution_count": 13,
   "metadata": {},
   "outputs": [
    {
     "name": "stdout",
     "output_type": "stream",
     "text": [
      "Cameron\n",
      "2\n",
      "2\n",
      "0\n",
      "30\n",
      "Geoff\n",
      "0\n",
      "3\n",
      "0\n",
      "30\n",
      "Phil\n",
      "2\n",
      "2\n",
      "1\n",
      "50\n"
     ]
    },
    {
     "data": {
      "text/plain": [
       "'Phil'"
      ]
     },
     "execution_count": 13,
     "metadata": {},
     "output_type": "execute_result"
    }
   ],
   "source": [
    "most_money([cam, geoff, phil])"
   ]
  },
  {
   "cell_type": "code",
   "execution_count": 14,
   "metadata": {},
   "outputs": [
    {
     "name": "stdout",
     "output_type": "stream",
     "text": [
      "Cameron\n",
      "2\n",
      "2\n",
      "0\n",
      "30\n",
      "Geoff\n",
      "0\n",
      "3\n",
      "0\n",
      "30\n"
     ]
    },
    {
     "data": {
      "text/plain": [
       "'all'"
      ]
     },
     "execution_count": 14,
     "metadata": {},
     "output_type": "execute_result"
    }
   ],
   "source": [
    "most_money([cam, geoff])"
   ]
  },
  {
   "cell_type": "code",
   "execution_count": 15,
   "metadata": {},
   "outputs": [
    {
     "data": {
      "text/plain": [
       "'Geoff'"
      ]
     },
     "execution_count": 15,
     "metadata": {},
     "output_type": "execute_result"
    }
   ],
   "source": [
    "most_money([geoff])"
   ]
  },
  {
   "cell_type": "code",
   "execution_count": 16,
   "metadata": {},
   "outputs": [],
   "source": [
    "geoff = Student(\"Geoff\", 0, 3, 0)"
   ]
  },
  {
   "cell_type": "code",
   "execution_count": 17,
   "metadata": {},
   "outputs": [],
   "source": [
    "students = [geoff]"
   ]
  },
  {
   "cell_type": "code",
   "execution_count": 18,
   "metadata": {},
   "outputs": [
    {
     "data": {
      "text/plain": [
       "'Geoff'"
      ]
     },
     "execution_count": 18,
     "metadata": {},
     "output_type": "execute_result"
    }
   ],
   "source": [
    "students[0].name"
   ]
  },
  {
   "cell_type": "code",
   "execution_count": 19,
   "metadata": {},
   "outputs": [],
   "source": [
    "andy = Student('Andy', 0,0,2)\n",
    "stephen = Student('Stephen', 0,4,0)\n",
    "eric = Student('Eric', 8,1,0)\n",
    "david = Student('David', 2,0,1)\n",
    "phil = Student('Phil', 0,2,1)"
   ]
  },
  {
   "cell_type": "code",
   "execution_count": 20,
   "metadata": {},
   "outputs": [
    {
     "name": "stdout",
     "output_type": "stream",
     "text": [
      "Andy\n",
      "0\n",
      "0\n",
      "2\n",
      "40\n",
      "Stephen\n",
      "0\n",
      "4\n",
      "0\n",
      "40\n",
      "Eric\n",
      "8\n",
      "1\n",
      "0\n",
      "50\n",
      "David\n",
      "2\n",
      "0\n",
      "1\n",
      "30\n",
      "Phil\n",
      "0\n",
      "2\n",
      "1\n",
      "40\n"
     ]
    },
    {
     "data": {
      "text/plain": [
       "'Eric'"
      ]
     },
     "execution_count": 20,
     "metadata": {},
     "output_type": "execute_result"
    }
   ],
   "source": [
    "most_money([andy, stephen, eric, david, phil])"
   ]
  },
  {
   "cell_type": "code",
   "execution_count": 21,
   "metadata": {},
   "outputs": [],
   "source": [
    "my_tuple3 = [('Andy', 40), ('Stephen', 40), ('David', 30), ('Phil', 40)]"
   ]
  },
  {
   "cell_type": "code",
   "execution_count": 22,
   "metadata": {},
   "outputs": [],
   "source": [
    "test_list = []\n",
    "\n",
    "for i, j in my_tuple3:\n",
    "    test_list.append(j)"
   ]
  },
  {
   "cell_type": "code",
   "execution_count": 23,
   "metadata": {},
   "outputs": [],
   "source": [
    "max_in_list = test_list.index(max(test_list))"
   ]
  },
  {
   "cell_type": "code",
   "execution_count": 24,
   "metadata": {},
   "outputs": [
    {
     "data": {
      "text/plain": [
       "'David'"
      ]
     },
     "execution_count": 24,
     "metadata": {},
     "output_type": "execute_result"
    }
   ],
   "source": [
    "my_tuple3[2][0]"
   ]
  },
  {
   "cell_type": "code",
   "execution_count": 25,
   "metadata": {},
   "outputs": [
    {
     "data": {
      "text/plain": [
       "'Andy'"
      ]
     },
     "execution_count": 25,
     "metadata": {},
     "output_type": "execute_result"
    }
   ],
   "source": [
    "my_tuple3[max_in_list][0]"
   ]
  },
  {
   "cell_type": "code",
   "execution_count": 26,
   "metadata": {},
   "outputs": [
    {
     "data": {
      "text/plain": [
       "3"
      ]
     },
     "execution_count": 26,
     "metadata": {},
     "output_type": "execute_result"
    }
   ],
   "source": [
    "test_list.count(40)"
   ]
  },
  {
   "cell_type": "code",
   "execution_count": null,
   "metadata": {},
   "outputs": [],
   "source": []
  },
  {
   "cell_type": "code",
   "execution_count": null,
   "metadata": {},
   "outputs": [],
   "source": []
  },
  {
   "cell_type": "code",
   "execution_count": null,
   "metadata": {},
   "outputs": [],
   "source": []
  },
  {
   "cell_type": "code",
   "execution_count": null,
   "metadata": {},
   "outputs": [],
   "source": []
  }
 ],
 "metadata": {
  "kernelspec": {
   "display_name": "Python 3",
   "language": "python",
   "name": "python3"
  },
  "language_info": {
   "codemirror_mode": {
    "name": "ipython",
    "version": 3
   },
   "file_extension": ".py",
   "mimetype": "text/x-python",
   "name": "python",
   "nbconvert_exporter": "python",
   "pygments_lexer": "ipython3",
   "version": "3.7.3"
  }
 },
 "nbformat": 4,
 "nbformat_minor": 2
}
